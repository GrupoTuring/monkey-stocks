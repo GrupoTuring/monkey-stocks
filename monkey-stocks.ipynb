{
 "cells": [
  {
   "cell_type": "markdown",
   "metadata": {},
   "source": [
    "# Monkey Stocks\n",
    "\n",
    "O objetivo deste notebook é executar um backtesting de uma estratégia de seleção aleatória de portfolio baseada em [monkey stocks](https://www.instagram.com/monkeystocks/?hl=pt-br). A estratégia consiste, basicamente, em selecionar aleatoriamente 5 ativos da bolsa brasileira semanalmente para se manter comprado ao longo do periodo em questão.\n",
    "\n",
    "## Bibliotecas\n",
    "\n",
    "Foram necessários os seguintes módulos de python, para executar a estratégia.\n",
    "\n",
    "Inicialmente, é necessário obter os tickers das empresas listadas na [B3](http://www.b3.com.br/pt_br/), portanto, foi feito um crawler utilizando as bibliotecas [BeatifulSoup](https://www.crummy.com/software/BeautifulSoup/bs4/doc/) e [requests](https://requests.readthedocs.io/en/master/).\n",
    "\n",
    "Os dados de mercado foram obtidos da biblioteca [yfinance](https://aroussi.com/post/python-yahoo-finance) que busca os dados da API do [yahoo finance](https://finance.yahoo.com).\n",
    "\n",
    "A seleção aleatória da carteira de investimentos foi feita a partir do módulo [random](https://docs.python.org/2/library/random.html), interno de python.\n",
    "\n",
    "E as demais bibliotecas: numpy, pandas e matplotlib, foram utilizadas para visualização e manipulação de dados."
   ]
  },
  {
   "cell_type": "code",
   "execution_count": 1,
   "metadata": {},
   "outputs": [],
   "source": [
    "import yfinance as yf\n",
    "import matplotlib.pyplot as plt\n",
    "import numpy as np\n",
    "import pandas as pd\n",
    "import random\n",
    "\n",
    "from bs4 import BeautifulSoup\n",
    "import requests"
   ]
  },
  {
   "cell_type": "markdown",
   "metadata": {},
   "source": [
    "## Crawler dos Tickers da B3\n",
    "A função abaixo foi desenvolvida em nosso módulo [Quant-Utils](https://github.com/GrupoTuring/Quant-Utils), ela obtém a partir do site [Fundamentus](https://fundamentus.com.br) todos os tickers das empresas listadas na [B3](http://www.b3.com.br/pt_br/). Podendo ser filtrados por setor, conforme pode-se observar abaixo."
   ]
  },
  {
   "cell_type": "code",
   "execution_count": 2,
   "metadata": {},
   "outputs": [],
   "source": [
    "def get_tickers(setor=\"Todos\"):\n",
    "    '''\n",
    "    Essa função obtém os tickers listados no site fundamentus.com.br, seja um setor\n",
    "    específico, uma lista de setores ou todos os tickers de todos os setores.\n",
    "    '''\n",
    "    \n",
    "    setores = {\"Agropecuária\": \"42\", \"Água e Saneamento\": \"33\", \"Alimentos\": \"15\",\n",
    "               \"Bebidas\": \"16\", \"Comércio\": \"27\", \"Comércio2\": \"12\",\n",
    "               \"Comércio e Distribuição\": \"20\", \"Computadores e Equipamentos\": \"28\",\n",
    "               \"Construção e Engenharia\": \"13\", \"Diversos\": \"26\",\n",
    "               \"Embalagens\": \"6\", \"Energia Elétrica\": \"32\",\n",
    "               \"Equipamentos Elétricos\": \"9\", \"Exploração de Imóveis\": \"39\",\n",
    "               \"Financeiros\": \"35\", \"Fumo\": \"17\", \"Gás\": \"34\", \n",
    "               \"Holdings Diversificadas\": \"40\", \"Hoteis e Restaurantes\": \"24\",\n",
    "               \"Madeira e Papel\": \"5\", \"Máquinas e Equipamentos\": \"10\", \n",
    "               \"Materiais Diversos\": \"7\", \"Material de Transporte\": \"8\",\n",
    "               \"Mídia\": \"23\", \"Mineração\": \"2\", \"Outros\": \"41\",\n",
    "               \"Petróleo, Gás e Biocombustíveis\": \"1\", \"Previdência e Seguros\": \"38\",\n",
    "               \"Prods. de Uso Pessoal e de Limpeza\": \"18\", \"Programas e Serviços\": \"29\",\n",
    "               \"Químicos\": \"4\", \"Saúde\": \"19\", \"Securitizadoras de Recebíveis\": \"36\",\n",
    "               \"Serviços\": \"11\", \"Serviços Financeiros Diversos\": \"37\",\n",
    "               \"Siderurgia e Metalurgia\": \"3\", \"Tecidos, Vestuário e Calçados\": \"21\",\n",
    "               \"Telefonia Fixa\": \"30\", \"Telefonia Móvel\": \"31\", \"Transporte\": \"14\",\n",
    "               \"Utilidades Domésticas\": \"22\", \"Viagens e Lazer\": \"25\"}\n",
    "\n",
    "    lista_setores = []\n",
    "    if setor == \"Todos\":\n",
    "        lista_setores = list(setores.keys())\n",
    "    elif isinstance(setor, str):\n",
    "        if setores.has_key(setor):\n",
    "            lista_setores.append(ticker)\n",
    "        else:\n",
    "            print(\"Esse setor não existe\")\n",
    "            return []\n",
    "    elif isinstance(setor, list):\n",
    "        lista_setores = setor\n",
    "    else: \n",
    "        return []\n",
    "    \n",
    "    tickers = []\n",
    "\n",
    "    for item in lista_setores:\n",
    "        try:\n",
    "            url = \"https://www.fundamentus.com.br/resultado.php?setor=\" + setores[item]\n",
    "            response = requests.get(url)\n",
    "        except:\n",
    "            print(\"Não foi possível coletar informações do setor: \" + item)\n",
    "            continue\n",
    "\n",
    "        soup = BeautifulSoup(response.text, \"html.parser\")\n",
    "        tickers_bruto = soup.find('tbody').find_all(\"a\")\n",
    "        for ticker in tickers_bruto:\n",
    "            tickers.append(ticker.string + '.SA')\n",
    "        \n",
    "    tickers.sort()\n",
    "    return tickers"
   ]
  },
  {
   "cell_type": "markdown",
   "metadata": {},
   "source": [
    "Em seguida executamos a função ```get_tickers()``` que retorna uma lista de python com os tickers das empresas listadas.\n",
    "\n",
    "Exemplo:\n",
    "    - ITSA4.SA\n",
    "    - BIDI11.SA"
   ]
  },
  {
   "cell_type": "code",
   "execution_count": 3,
   "metadata": {},
   "outputs": [],
   "source": [
    "# tickers e random tickers\n",
    "tickers = get_tickers()"
   ]
  },
  {
   "cell_type": "markdown",
   "metadata": {},
   "source": [
    "## Dados históricos de Mercado\n",
    "\n",
    "A função ```yf.download()``` retorna um pandas.DataFrame com os dados relacionados ao preço dos ativos para todos os ativos passados no parâmetro. Além disso, é necessário passar os parâmetros start e end, para dizer qual o periodo que se deseja obter os dados. Em caso de dúvidas vejam a [documentação](https://github.com/ranaroussi/yfinance).\n",
    "\n",
    "Note que nem todos os tickers estão disponíveis no periodo solicitado (talvez o ativo tenha sido retirado da bolsa ou ainda não esteja presente), nesses casos o pandas.DataFrame contém todos os valores NAN."
   ]
  },
  {
   "cell_type": "code",
   "execution_count": 4,
   "metadata": {},
   "outputs": [
    {
     "name": "stdout",
     "output_type": "stream",
     "text": [
      "[*********************100%***********************]  402 of 402 completed\n",
      "\n",
      "4 Failed downloads:\n",
      "- LWSA3.SA: Data doesn't exist for startDate = 1546308000, endDate = 1577761200\n",
      "- MTRE3.SA: Data doesn't exist for startDate = 1546308000, endDate = 1577761200\n",
      "- PRNR3.SA: Data doesn't exist for startDate = 1546308000, endDate = 1577761200\n",
      "- MDNE3.SA: Data doesn't exist for startDate = 1546308000, endDate = 1577761200\n"
     ]
    }
   ],
   "source": [
    "start=\"2019-01-01\" # inicio do periodo a ser analisado\n",
    "end=\"2019-12-31\" # fim do periodo\n",
    "\n",
    "# dados historicos de mercado dos ativos (tickers)\n",
    "data = yf.download(tickers, start=start, end=end)"
   ]
  },
  {
   "cell_type": "markdown",
   "metadata": {},
   "source": [
    "A função abaixo ```assets_return()``` calcula o retorno semanal dos tickers passados como parâmetro utilizando os preços de fechamento. E retorna um pandas.DataFrame contendo a soma dos retornos de cada ativo (sum) e média dos retornos (mean). "
   ]
  },
  {
   "cell_type": "code",
   "execution_count": 5,
   "metadata": {},
   "outputs": [],
   "source": [
    "def assets_return(data, start, end, tickers):\n",
    "    \n",
    "    df = data.Close[tickers].loc[start:end].pct_change().dropna()\n",
    "\n",
    "    df['sum'] = df.sum(axis=1)\n",
    "    df['mean'] = df.mean(axis=1)\n",
    "    return df[['sum', 'mean']]"
   ]
  },
  {
   "cell_type": "markdown",
   "metadata": {},
   "source": [
    "A função principal desse notebook é a que segue ```monkey_stocks()``` que recebe os dados de preço de todos os ativos listados para o periodo analisado. E retorna um dataframe contendo os retornos semanais obtidos pela carteira.\n",
    "\n",
    "Para cada semana no periodo analisado, escolhemos aleatoriamente 5 ativos das empresas listadas na B3 e calculamos o seu retorno com base nos preços de fechamento. Em que o retorno ($r_t$) é performado pelo método ```pct_change()``` do pandas.DataFrame\n",
    "\n",
    "$$r_t = \\frac{P_t - P_{t-1}}{P_{t-1}}$$\n",
    "\n"
   ]
  },
  {
   "cell_type": "code",
   "execution_count": 6,
   "metadata": {},
   "outputs": [],
   "source": [
    "def monkey_stocks(data):\n",
    "\n",
    "    df = pd.DataFrame()\n",
    "    \n",
    "    # a cada semana\n",
    "    start2 = data.index[0]\n",
    "    for i in range(4, len(data.index), 4):\n",
    "        end2 = data.index[i]\n",
    "        \n",
    "        random_tickers = random.sample(tickers, 5)\n",
    "        \n",
    "        print(f\"Calculando semana {start} - {end}\")\n",
    "        print(f\"Tickers = {random_tickers}\")\n",
    "        \n",
    "        r = assets_return(data, start2, end2, random_tickers)\n",
    "        \n",
    "        df = pd.concat([df, r])\n",
    "        \n",
    "        start2 = end2\n",
    "        \n",
    "    return df"
   ]
  },
  {
   "cell_type": "markdown",
   "metadata": {},
   "source": [
    "Abaixo temos a chamada da função que executa a estratégia. Performe mais de uma execução e visualize o resultado na seção de visualização."
   ]
  },
  {
   "cell_type": "code",
   "execution_count": 7,
   "metadata": {
    "scrolled": true
   },
   "outputs": [
    {
     "name": "stdout",
     "output_type": "stream",
     "text": [
      "Calculando semana 2019-01-01 - 2019-12-31\n",
      "Tickers = ['LAME4.SA', 'GEPA3.SA', 'GFSA3.SA', 'PNVL4.SA', 'AHEB3.SA']\n",
      "Calculando semana 2019-01-01 - 2019-12-31\n",
      "Tickers = ['CPRE3.SA', 'AFLT3.SA', 'AHEB3.SA', 'BRAP4.SA', 'TRPL4.SA']\n",
      "Calculando semana 2019-01-01 - 2019-12-31\n",
      "Tickers = ['STBP3.SA', 'BBSE3.SA', 'DMMO3.SA', 'CVCB3.SA', 'GGBR3.SA']\n",
      "Calculando semana 2019-01-01 - 2019-12-31\n",
      "Tickers = ['KLBN3.SA', 'CLSC4.SA', 'SULA11.SA', 'JFEN3.SA', 'BMGB4.SA']\n",
      "Calculando semana 2019-01-01 - 2019-12-31\n",
      "Tickers = ['MSPA3.SA', 'MYPK3.SA', 'MMXM3.SA', 'SPRI3.SA', 'MDIA3.SA']\n",
      "Calculando semana 2019-01-01 - 2019-12-31\n",
      "Tickers = ['SAPR4.SA', 'CPLE3.SA', 'CEDO4.SA', 'PRNR3.SA', 'EKTR3.SA']\n",
      "Calculando semana 2019-01-01 - 2019-12-31\n",
      "Tickers = ['BMEB4.SA', 'WLMM3.SA', 'BIDI4.SA', 'BRKM5.SA', 'BRKM3.SA']\n",
      "Calculando semana 2019-01-01 - 2019-12-31\n",
      "Tickers = ['EALT4.SA', 'PATI4.SA', 'TUPY3.SA', 'PTNT4.SA', 'SHUL4.SA']\n",
      "Calculando semana 2019-01-01 - 2019-12-31\n",
      "Tickers = ['LPSB3.SA', 'KLBN11.SA', 'UNIP6.SA', 'VIVA3.SA', 'SULA3.SA']\n",
      "Calculando semana 2019-01-01 - 2019-12-31\n",
      "Tickers = ['WLMM4.SA', 'TAEE4.SA', 'HYPE3.SA', 'LLIS3.SA', 'PATI4.SA']\n",
      "Calculando semana 2019-01-01 - 2019-12-31\n",
      "Tickers = ['CCPR3.SA', 'UNIP5.SA', 'HBOR3.SA', 'CEDO4.SA', 'PCAR3.SA']\n",
      "Calculando semana 2019-01-01 - 2019-12-31\n",
      "Tickers = ['TXRX3.SA', 'TUPY3.SA', 'TCNO4.SA', 'GEPA4.SA', 'GEPA3.SA']\n",
      "Calculando semana 2019-01-01 - 2019-12-31\n",
      "Tickers = ['TXRX4.SA', 'TCNO4.SA', 'HAGA4.SA', 'RSUL4.SA', 'SAPR4.SA']\n",
      "Calculando semana 2019-01-01 - 2019-12-31\n",
      "Tickers = ['EQTL3.SA', 'HAGA3.SA', 'WLMM3.SA', 'SANB4.SA', 'BRSR3.SA']\n",
      "Calculando semana 2019-01-01 - 2019-12-31\n",
      "Tickers = ['SPRI6.SA', 'BRML3.SA', 'PRNR3.SA', 'INEP4.SA', 'CEDO3.SA']\n",
      "Calculando semana 2019-01-01 - 2019-12-31\n",
      "Tickers = ['VIVT4.SA', 'USIM3.SA', 'OSXB3.SA', 'GOAU3.SA', 'AZEV3.SA']\n",
      "Calculando semana 2019-01-01 - 2019-12-31\n",
      "Tickers = ['ETER3.SA', 'ABEV3.SA', 'PINE4.SA', 'SAPR4.SA', 'RADL3.SA']\n",
      "Calculando semana 2019-01-01 - 2019-12-31\n",
      "Tickers = ['MRFG3.SA', 'CGAS5.SA', 'MEAL3.SA', 'MGLU3.SA', 'CARD3.SA']\n",
      "Calculando semana 2019-01-01 - 2019-12-31\n",
      "Tickers = ['FESA3.SA', 'OIBR4.SA', 'CSRN3.SA', 'SBSP3.SA', 'EUCA4.SA']\n",
      "Calculando semana 2019-01-01 - 2019-12-31\n",
      "Tickers = ['BRKM6.SA', 'BRML3.SA', 'ALUP11.SA', 'IDVL3.SA', 'BALM4.SA']\n",
      "Calculando semana 2019-01-01 - 2019-12-31\n",
      "Tickers = ['CTNM3.SA', 'CVCB3.SA', 'PATI4.SA', 'JOPA3.SA', 'NORD3.SA']\n",
      "Calculando semana 2019-01-01 - 2019-12-31\n",
      "Tickers = ['BBDC3.SA', 'BPAN4.SA', 'BMIN4.SA', 'MSPA3.SA', 'CRPG6.SA']\n",
      "Calculando semana 2019-01-01 - 2019-12-31\n",
      "Tickers = ['GEPA3.SA', 'ALPA4.SA', 'BKBR3.SA', 'SGPS3.SA', 'ITSA3.SA']\n",
      "Calculando semana 2019-01-01 - 2019-12-31\n",
      "Tickers = ['PATI4.SA', 'BRDT3.SA', 'SQIA3.SA', 'TEKA3.SA', 'SLCE3.SA']\n",
      "Calculando semana 2019-01-01 - 2019-12-31\n",
      "Tickers = ['CESP3.SA', 'BIOM3.SA', 'MNPR3.SA', 'VULC3.SA', 'EGIE3.SA']\n",
      "Calculando semana 2019-01-01 - 2019-12-31\n",
      "Tickers = ['ENBR3.SA', 'ALUP4.SA', 'SANB4.SA', 'ECOR3.SA', 'CRPG6.SA']\n",
      "Calculando semana 2019-01-01 - 2019-12-31\n",
      "Tickers = ['SLED4.SA', 'CEBR5.SA', 'PEAB4.SA', 'RANI4.SA', 'CTSA3.SA']\n",
      "Calculando semana 2019-01-01 - 2019-12-31\n",
      "Tickers = ['JOPA4.SA', 'HYPE3.SA', 'RCSL4.SA', 'EQTL3.SA', 'BEEF3.SA']\n",
      "Calculando semana 2019-01-01 - 2019-12-31\n",
      "Tickers = ['CARD3.SA', 'RAIL3.SA', 'CPLE3.SA', 'BRAP4.SA', 'RANI3.SA']\n",
      "Calculando semana 2019-01-01 - 2019-12-31\n",
      "Tickers = ['ENEV3.SA', 'CEBR6.SA', 'MNDL3.SA', 'VULC3.SA', 'RNEW3.SA']\n",
      "Calculando semana 2019-01-01 - 2019-12-31\n",
      "Tickers = ['TASA4.SA', 'ENMT3.SA', 'PEAB3.SA', 'RANI4.SA', 'PSSA3.SA']\n",
      "Calculando semana 2019-01-01 - 2019-12-31\n",
      "Tickers = ['CPLE3.SA', 'AZEV4.SA', 'DASA3.SA', 'FRAS3.SA', 'CPRE3.SA']\n",
      "Calculando semana 2019-01-01 - 2019-12-31\n",
      "Tickers = ['CRFB3.SA', 'AZUL4.SA', 'CTNM3.SA', 'CEDO3.SA', 'SULA11.SA']\n",
      "Calculando semana 2019-01-01 - 2019-12-31\n",
      "Tickers = ['TCNO3.SA', 'TIET3.SA', 'SBSP3.SA', 'NORD3.SA', 'PETR3.SA']\n",
      "Calculando semana 2019-01-01 - 2019-12-31\n",
      "Tickers = ['TPIS3.SA', 'BBAS3.SA', 'EZTC3.SA', 'ECOR3.SA', 'ADHM3.SA']\n",
      "Calculando semana 2019-01-01 - 2019-12-31\n",
      "Tickers = ['CARD3.SA', 'AZEV4.SA', 'MRVE3.SA', 'WHRL4.SA', 'RANI3.SA']\n",
      "Calculando semana 2019-01-01 - 2019-12-31\n",
      "Tickers = ['BAUH4.SA', 'BRDT3.SA', 'NEOE3.SA', 'ALSO3.SA', 'AHEB5.SA']\n",
      "Calculando semana 2019-01-01 - 2019-12-31\n",
      "Tickers = ['TRIS3.SA', 'TELB4.SA', 'TEKA3.SA', 'VIVT4.SA', 'NEOE3.SA']\n",
      "Calculando semana 2019-01-01 - 2019-12-31\n",
      "Tickers = ['JBDU4.SA', 'VIVT3.SA', 'ENAT3.SA', 'MTIG4.SA', 'VIVT4.SA']\n",
      "Calculando semana 2019-01-01 - 2019-12-31\n",
      "Tickers = ['BEES4.SA', 'GEPA3.SA', 'CRFB3.SA', 'MTRE3.SA', 'WHRL3.SA']\n",
      "Calculando semana 2019-01-01 - 2019-12-31\n",
      "Tickers = ['ALPA3.SA', 'CGRA4.SA', 'PMAM3.SA', 'WEGE3.SA', 'RPAD3.SA']\n",
      "Calculando semana 2019-01-01 - 2019-12-31\n",
      "Tickers = ['TAEE3.SA', 'EQPA3.SA', 'TRPL3.SA', 'SGPS3.SA', 'WSON33.SA']\n",
      "Calculando semana 2019-01-01 - 2019-12-31\n",
      "Tickers = ['SEER3.SA', 'CSMG3.SA', 'UCAS3.SA', 'BRAP4.SA', 'VULC3.SA']\n",
      "Calculando semana 2019-01-01 - 2019-12-31\n",
      "Tickers = ['SANB4.SA', 'CRIV4.SA', 'BEES3.SA', 'TECN3.SA', 'BBDC4.SA']\n",
      "Calculando semana 2019-01-01 - 2019-12-31\n",
      "Tickers = ['HAGA3.SA', 'BRGE11.SA', 'PINE4.SA', 'WLMM4.SA', 'NORD3.SA']\n",
      "Calculando semana 2019-01-01 - 2019-12-31\n",
      "Tickers = ['GEPA3.SA', 'USIM5.SA', 'SLED4.SA', 'TUPY3.SA', 'CGRA3.SA']\n",
      "Calculando semana 2019-01-01 - 2019-12-31\n",
      "Tickers = ['DTEX3.SA', 'ALUP11.SA', 'SPRI5.SA', 'OMGE3.SA', 'ENEV3.SA']\n",
      "Calculando semana 2019-01-01 - 2019-12-31\n",
      "Tickers = ['WLMM4.SA', 'QUAL3.SA', 'ALSO3.SA', 'BRGE6.SA', 'TIET4.SA']\n",
      "Calculando semana 2019-01-01 - 2019-12-31\n",
      "Tickers = ['RNEW4.SA', 'LUPA3.SA', 'CRDE3.SA', 'BRSR5.SA', 'BRGE8.SA']\n",
      "Calculando semana 2019-01-01 - 2019-12-31\n",
      "Tickers = ['JBDU4.SA', 'IDVL4.SA', 'CARD3.SA', 'TRIS3.SA', 'AZEV4.SA']\n",
      "Calculando semana 2019-01-01 - 2019-12-31\n",
      "Tickers = ['GEPA4.SA', 'NORD3.SA', 'LPSB3.SA', 'EVEN3.SA', 'CSRN3.SA']\n",
      "Calculando semana 2019-01-01 - 2019-12-31\n",
      "Tickers = ['BMEB3.SA', 'MDIA3.SA', 'PNVL4.SA', 'PSSA3.SA', 'TEKA4.SA']\n",
      "Calculando semana 2019-01-01 - 2019-12-31\n",
      "Tickers = ['CPLE6.SA', 'MNPR3.SA', 'KLBN4.SA', 'CPFE3.SA', 'RDNI3.SA']\n",
      "Calculando semana 2019-01-01 - 2019-12-31\n",
      "Tickers = ['STBP3.SA', 'APER3.SA', 'MSPA3.SA', 'BMIN4.SA', 'LAME4.SA']\n",
      "Calculando semana 2019-01-01 - 2019-12-31\n",
      "Tickers = ['ELET3.SA', 'ALUP3.SA', 'MWET4.SA', 'TELB4.SA', 'TRPL4.SA']\n",
      "Calculando semana 2019-01-01 - 2019-12-31\n",
      "Tickers = ['PINE4.SA', 'INEP4.SA', 'BBAS3.SA', 'ITUB4.SA', 'NORD3.SA']\n",
      "Calculando semana 2019-01-01 - 2019-12-31\n",
      "Tickers = ['EQPA6.SA', 'OIBR4.SA', 'SLED3.SA', 'CLSC4.SA', 'GPIV33.SA']\n",
      "Calculando semana 2019-01-01 - 2019-12-31\n",
      "Tickers = ['CESP3.SA', 'SANB11.SA', 'GPCP3.SA', 'BEES4.SA', 'TRIS3.SA']\n",
      "Calculando semana 2019-01-01 - 2019-12-31\n",
      "Tickers = ['CRIV3.SA', 'LAME3.SA', 'ENBR3.SA', 'INEP4.SA', 'BRDT3.SA']\n",
      "Calculando semana 2019-01-01 - 2019-12-31\n",
      "Tickers = ['PINE4.SA', 'EMAE4.SA', 'SEER3.SA', 'PTBL3.SA', 'JBDU4.SA']\n",
      "Calculando semana 2019-01-01 - 2019-12-31\n",
      "Tickers = ['JFEN3.SA', 'OMGE3.SA', 'CPLE3.SA', 'CCPR3.SA', 'ALUP3.SA']\n"
     ]
    }
   ],
   "source": [
    "# chamada da função monkey_stocks()\n",
    "ms = monkey_stocks(data)"
   ]
  },
  {
   "cell_type": "markdown",
   "metadata": {},
   "source": [
    "## Visualização\n",
    "\n",
    "A seguir um gráfico do retorno acumulado da estratégia no tempo."
   ]
  },
  {
   "cell_type": "code",
   "execution_count": 8,
   "metadata": {},
   "outputs": [
    {
     "data": {
      "text/plain": [
       "Text(0, 0.5, 'Retorno Acumulado')"
      ]
     },
     "execution_count": 8,
     "metadata": {},
     "output_type": "execute_result"
    },
    {
     "data": {
      "image/png": "[encoded data removed]",
      "text/plain": [
       "<Figure size 1152x648 with 1 Axes>"
      ]
     },
     "metadata": {
      "needs_background": "light"
     },
     "output_type": "display_data"
    }
   ],
   "source": [
    "plt.figure(figsize=(16,9))\n",
    "ax = (1 + ms['mean']).cumprod().plot(title='Retorno acumulado do Monkey Stocks')\n",
    "ax.set_xlabel(\"Tempo\")\n",
    "ax.set_ylabel(\"Retorno Acumulado\")"
   ]
  }
 ],
 "metadata": {
  "kernelspec": {
   "display_name": ".quantenv",
   "language": "python",
   "name": ".quantenv"
  },
  "language_info": {
   "codemirror_mode": {
    "name": "ipython",
    "version": 3
   },
   "file_extension": ".py",
   "mimetype": "text/x-python",
   "name": "python",
   "nbconvert_exporter": "python",
   "pygments_lexer": "ipython3",
   "version": "3.6.9"
  }
 },
 "nbformat": 4,
 "nbformat_minor": 2
}
