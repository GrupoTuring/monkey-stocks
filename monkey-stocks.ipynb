{
 "cells": [
  {
   "cell_type": "markdown",
   "metadata": {},
   "source": [
    "# Monkey Stocks"
   ]
  },
  {
   "cell_type": "code",
   "execution_count": 1,
   "metadata": {},
   "outputs": [],
   "source": [
    "import yfinance as yf\n",
    "import matplotlib.pyplot as plt\n",
    "import numpy as np\n",
    "import pandas as pd\n",
    "import seaborn as sns\n",
    "import random\n",
    "\n",
    "from bs4 import BeautifulSoup\n",
    "import requests"
   ]
  },
  {
   "cell_type": "code",
   "execution_count": 2,
   "metadata": {},
   "outputs": [],
   "source": [
    "def get_tickers(setor=\"Todos\"):\n",
    "    '''\n",
    "    Essa função obtém os tickers listados no site fundamentus.com.br, seja um setor\n",
    "    específico, uma lista de setores ou todos os tickers de todos os setores.\n",
    "    '''\n",
    "    \n",
    "    setores = {\"Agropecuária\": \"42\", \"Água e Saneamento\": \"33\", \"Alimentos\": \"15\",\n",
    "               \"Bebidas\": \"16\", \"Comércio\": \"27\", \"Comércio2\": \"12\",\n",
    "               \"Comércio e Distribuição\": \"20\", \"Computadores e Equipamentos\": \"28\",\n",
    "               \"Construção e Engenharia\": \"13\", \"Diversos\": \"26\",\n",
    "               \"Embalagens\": \"6\", \"Energia Elétrica\": \"32\",\n",
    "               \"Equipamentos Elétricos\": \"9\", \"Exploração de Imóveis\": \"39\",\n",
    "               \"Financeiros\": \"35\", \"Fumo\": \"17\", \"Gás\": \"34\", \n",
    "               \"Holdings Diversificadas\": \"40\", \"Hoteis e Restaurantes\": \"24\",\n",
    "               \"Madeira e Papel\": \"5\", \"Máquinas e Equipamentos\": \"10\", \n",
    "               \"Materiais Diversos\": \"7\", \"Material de Transporte\": \"8\",\n",
    "               \"Mídia\": \"23\", \"Mineração\": \"2\", \"Outros\": \"41\",\n",
    "               \"Petróleo, Gás e Biocombustíveis\": \"1\", \"Previdência e Seguros\": \"38\",\n",
    "               \"Prods. de Uso Pessoal e de Limpeza\": \"18\", \"Programas e Serviços\": \"29\",\n",
    "               \"Químicos\": \"4\", \"Saúde\": \"19\", \"Securitizadoras de Recebíveis\": \"36\",\n",
    "               \"Serviços\": \"11\", \"Serviços Financeiros Diversos\": \"37\",\n",
    "               \"Siderurgia e Metalurgia\": \"3\", \"Tecidos, Vestuário e Calçados\": \"21\",\n",
    "               \"Telefonia Fixa\": \"30\", \"Telefonia Móvel\": \"31\", \"Transporte\": \"14\",\n",
    "               \"Utilidades Domésticas\": \"22\", \"Viagens e Lazer\": \"25\"}\n",
    "\n",
    "    lista_setores = []\n",
    "    if setor == \"Todos\":\n",
    "        lista_setores = list(setores.keys())\n",
    "    elif isinstance(setor, str):\n",
    "        if setores.has_key(setor):\n",
    "            lista_setores.append(ticker)\n",
    "        else:\n",
    "            print(\"Esse setor não existe\")\n",
    "            return []\n",
    "    elif isinstance(setor, list):\n",
    "        lista_setores = setor\n",
    "    else: \n",
    "        return []\n",
    "    \n",
    "    tickers = []\n",
    "\n",
    "    for item in lista_setores:\n",
    "        try:\n",
    "            url = \"https://www.fundamentus.com.br/resultado.php?setor=\" + setores[item]\n",
    "            response = requests.get(url)\n",
    "        except:\n",
    "            print(\"Não foi possível coletar informações do setor: \" + item)\n",
    "            continue\n",
    "\n",
    "        soup = BeautifulSoup(response.text, \"html.parser\")\n",
    "        tickers_bruto = soup.find('tbody').find_all(\"a\")\n",
    "        for ticker in tickers_bruto:\n",
    "            tickers.append(ticker.string + '.SA')\n",
    "        \n",
    "    tickers.sort()\n",
    "    return tickers"
   ]
  },
  {
   "cell_type": "code",
   "execution_count": 3,
   "metadata": {},
   "outputs": [],
   "source": [
    "# tickers e random tickers\n",
    "tickers = get_tickers()"
   ]
  },
  {
   "cell_type": "code",
   "execution_count": 5,
   "metadata": {},
   "outputs": [
    {
     "name": "stdout",
     "output_type": "stream",
     "text": [
      "[*********************100%***********************]  402 of 402 completed\n",
      "\n",
      "4 Failed downloads:\n",
      "- MDNE3.SA: Data doesn't exist for startDate = 1546308000, endDate = 1577761200\n",
      "- PRNR3.SA: Data doesn't exist for startDate = 1546308000, endDate = 1577761200\n",
      "- MTRE3.SA: Data doesn't exist for startDate = 1546308000, endDate = 1577761200\n",
      "- LWSA3.SA: Data doesn't exist for startDate = 1546308000, endDate = 1577761200\n"
     ]
    }
   ],
   "source": [
    "start=\"2019-01-01\"\n",
    "end=\"2019-12-31\"\n",
    "data = yf.download(tickers, start=start, end=end)"
   ]
  },
  {
   "cell_type": "code",
   "execution_count": 6,
   "metadata": {},
   "outputs": [],
   "source": [
    "def assets_return(data, start, end, tickers):\n",
    "    \n",
    "    df = data.Close[tickers].loc[start:end].pct_change().dropna()\n",
    "\n",
    "    df['sum'] = df.sum(axis=1)\n",
    "    df['mean'] = df.mean(axis=1)\n",
    "    return df[['sum', 'mean']]"
   ]
  },
  {
   "cell_type": "code",
   "execution_count": 7,
   "metadata": {},
   "outputs": [],
   "source": [
    "def monkey_stocks(data):\n",
    "\n",
    "    df = pd.DataFrame()\n",
    "    \n",
    "    # a cada semana\n",
    "    start2 = data.index[0]\n",
    "    for i in range(4, len(data.index), 4):\n",
    "        end2 = data.index[i]\n",
    "        print(f\"Calculando semana {start} - {end}\")\n",
    "        \n",
    "        random_tickers = random.sample(tickers, 5)\n",
    "        print(f\"Tickers = {random_tickers}\")\n",
    "        \n",
    "        r = assets_return(data, start2, end2, random_tickers)\n",
    "        \n",
    "        df = pd.concat([df, r])\n",
    "        \n",
    "        start2 = end2\n",
    "        \n",
    "    return df"
   ]
  },
  {
   "cell_type": "code",
   "execution_count": 15,
   "metadata": {
    "scrolled": true
   },
   "outputs": [
    {
     "name": "stdout",
     "output_type": "stream",
     "text": [
      "Calculando semana 2019-01-01 - 2019-12-31\n",
      "Tickers = ['RENT3.SA', 'BRGE8.SA', 'CBEE3.SA', 'LWSA3.SA', 'SEER3.SA']\n",
      "Calculando semana 2019-01-01 - 2019-12-31\n",
      "Tickers = ['VULC3.SA', 'IRBR3.SA', 'HAGA4.SA', 'ITSA3.SA', 'CGRA3.SA']\n",
      "Calculando semana 2019-01-01 - 2019-12-31\n",
      "Tickers = ['WSON33.SA', 'AALR3.SA', 'TOTS3.SA', 'BRKM3.SA', 'RNEW11.SA']\n",
      "Calculando semana 2019-01-01 - 2019-12-31\n",
      "Tickers = ['SMLS3.SA', 'RDNI3.SA', 'BEES4.SA', 'MEAL3.SA', 'KLBN11.SA']\n",
      "Calculando semana 2019-01-01 - 2019-12-31\n",
      "Tickers = ['EMBR3.SA', 'BBSE3.SA', 'PLAS3.SA', 'TXRX3.SA', 'ENMT3.SA']\n",
      "Calculando semana 2019-01-01 - 2019-12-31\n",
      "Tickers = ['RANI3.SA', 'TCSA3.SA', 'LAME4.SA', 'BRFS3.SA', 'MNPR3.SA']\n",
      "Calculando semana 2019-01-01 - 2019-12-31\n",
      "Tickers = ['CSAB4.SA', 'MYPK3.SA', 'CESP5.SA', 'TCNO4.SA', 'MULT3.SA']\n",
      "Calculando semana 2019-01-01 - 2019-12-31\n",
      "Tickers = ['KEPL3.SA', 'OIBR3.SA', 'BDLL4.SA', 'GOAU4.SA', 'PNVL4.SA']\n",
      "Calculando semana 2019-01-01 - 2019-12-31\n",
      "Tickers = ['EQPA6.SA', 'CTSA4.SA', 'BSEV3.SA', 'TIET11.SA', 'PTNT3.SA']\n",
      "Calculando semana 2019-01-01 - 2019-12-31\n",
      "Tickers = ['SAPR11.SA', 'DOHL4.SA', 'TIET3.SA', 'SMTO3.SA', 'NORD3.SA']\n",
      "Calculando semana 2019-01-01 - 2019-12-31\n",
      "Tickers = ['PRNR3.SA', 'KLBN11.SA', 'TASA3.SA', 'APER3.SA', 'LREN3.SA']\n",
      "Calculando semana 2019-01-01 - 2019-12-31\n",
      "Tickers = ['RNEW4.SA', 'RPAD5.SA', 'BIDI3.SA', 'TRPL4.SA', 'AZUL4.SA']\n",
      "Calculando semana 2019-01-01 - 2019-12-31\n",
      "Tickers = ['IDVL4.SA', 'POSI3.SA', 'RANI4.SA', 'CSAN3.SA', 'CRIV3.SA']\n",
      "Calculando semana 2019-01-01 - 2019-12-31\n",
      "Tickers = ['EQPA3.SA', 'CTNM4.SA', 'TELB3.SA', 'GBIO33.SA', 'BTTL3.SA']\n",
      "Calculando semana 2019-01-01 - 2019-12-31\n",
      "Tickers = ['BRSR5.SA', 'TRPL4.SA', 'SPRI5.SA', 'EZTC3.SA', 'VIVT3.SA']\n",
      "Calculando semana 2019-01-01 - 2019-12-31\n",
      "Tickers = ['JOPA3.SA', 'WSON33.SA', 'HGTX3.SA', 'MSPA3.SA', 'TAEE3.SA']\n",
      "Calculando semana 2019-01-01 - 2019-12-31\n",
      "Tickers = ['NAFG4.SA', 'BBDC4.SA', 'TCSA3.SA', 'TUPY3.SA', 'FRTA3.SA']\n",
      "Calculando semana 2019-01-01 - 2019-12-31\n",
      "Tickers = ['SBSP3.SA', 'LINX3.SA', 'EMAE4.SA', 'MGLU3.SA', 'DASA3.SA']\n",
      "Calculando semana 2019-01-01 - 2019-12-31\n",
      "Tickers = ['RENT3.SA', 'FLRY3.SA', 'ELET6.SA', 'JBDU3.SA', 'BBAS3.SA']\n",
      "Calculando semana 2019-01-01 - 2019-12-31\n",
      "Tickers = ['AHEB3.SA', 'SOND6.SA', 'BGIP4.SA', 'CGAS3.SA', 'TXRX4.SA']\n",
      "Calculando semana 2019-01-01 - 2019-12-31\n",
      "Tickers = ['JOPA3.SA', 'BMIN3.SA', 'NORD3.SA', 'PRIO3.SA', 'IGBR3.SA']\n",
      "Calculando semana 2019-01-01 - 2019-12-31\n",
      "Tickers = ['TIET4.SA', 'TASA4.SA', 'PEAB3.SA', 'LCAM3.SA', 'NAFG3.SA']\n",
      "Calculando semana 2019-01-01 - 2019-12-31\n",
      "Tickers = ['LREN3.SA', 'TAEE4.SA', 'RPAD6.SA', 'DTEX3.SA', 'TCNO4.SA']\n",
      "Calculando semana 2019-01-01 - 2019-12-31\n",
      "Tickers = ['MERC4.SA', 'CGAS5.SA', 'USIM3.SA', 'CSAN3.SA', 'GOAU3.SA']\n",
      "Calculando semana 2019-01-01 - 2019-12-31\n",
      "Tickers = ['IGBR3.SA', 'BRPR3.SA', 'BEES4.SA', 'KEPL3.SA', 'CAML3.SA']\n",
      "Calculando semana 2019-01-01 - 2019-12-31\n",
      "Tickers = ['IRBR3.SA', 'CMIG3.SA', 'JPSA3.SA', 'ALPA4.SA', 'BRGE12.SA']\n",
      "Calculando semana 2019-01-01 - 2019-12-31\n",
      "Tickers = ['CEAB3.SA', 'FESA3.SA', 'POMO3.SA', 'INEP4.SA', 'QUAL3.SA']\n",
      "Calculando semana 2019-01-01 - 2019-12-31\n",
      "Tickers = ['USIM5.SA', 'MTIG4.SA', 'CYRE3.SA', 'HAGA4.SA', 'JBSS3.SA']\n",
      "Calculando semana 2019-01-01 - 2019-12-31\n",
      "Tickers = ['CAML3.SA', 'SPRI3.SA', 'TCNO3.SA', 'WHRL4.SA', 'HOOT4.SA']\n",
      "Calculando semana 2019-01-01 - 2019-12-31\n",
      "Tickers = ['SANB3.SA', 'TIET11.SA', 'MDNE3.SA', 'RENT3.SA', 'YDUQ3.SA']\n",
      "Calculando semana 2019-01-01 - 2019-12-31\n",
      "Tickers = ['RPAD5.SA', 'BPAN4.SA', 'PRNR3.SA', 'WLMM4.SA', 'TELB4.SA']\n",
      "Calculando semana 2019-01-01 - 2019-12-31\n",
      "Tickers = ['EKTR3.SA', 'CRIV4.SA', 'TIET11.SA', 'SHOW3.SA', 'TAEE3.SA']\n",
      "Calculando semana 2019-01-01 - 2019-12-31\n",
      "Tickers = ['CRPG5.SA', 'JBSS3.SA', 'BRGE12.SA', 'BRIV3.SA', 'BIDI4.SA']\n",
      "Calculando semana 2019-01-01 - 2019-12-31\n",
      "Tickers = ['GOAU3.SA', 'BRKM5.SA', 'ELEK4.SA', 'TCSA3.SA', 'PEAB4.SA']\n",
      "Calculando semana 2019-01-01 - 2019-12-31\n",
      "Tickers = ['CPRE3.SA', 'CARD3.SA', 'IGTA3.SA', 'LOGG3.SA', 'LAME4.SA']\n",
      "Calculando semana 2019-01-01 - 2019-12-31\n",
      "Tickers = ['MULT3.SA', 'RENT3.SA', 'ITSA3.SA', 'PINE4.SA', 'CCPR3.SA']\n",
      "Calculando semana 2019-01-01 - 2019-12-31\n",
      "Tickers = ['EKTR3.SA', 'BAZA3.SA', 'TUPY3.SA', 'JSLG3.SA', 'SANB3.SA']\n",
      "Calculando semana 2019-01-01 - 2019-12-31\n",
      "Tickers = ['VALE3.SA', 'HAGA3.SA', 'JBDU4.SA', 'RANI4.SA', 'PETR4.SA']\n",
      "Calculando semana 2019-01-01 - 2019-12-31\n",
      "Tickers = ['TGMA3.SA', 'SOND5.SA', 'AZUL4.SA', 'BIDI4.SA', 'DOHL4.SA']\n",
      "Calculando semana 2019-01-01 - 2019-12-31\n",
      "Tickers = ['SULA11.SA', 'DASA3.SA', 'TUPY3.SA', 'MNDL3.SA', 'AGRO3.SA']\n",
      "Calculando semana 2019-01-01 - 2019-12-31\n",
      "Tickers = ['PRIO3.SA', 'PNVL4.SA', 'BPAN4.SA', 'ITSA3.SA', 'HAPV3.SA']\n",
      "Calculando semana 2019-01-01 - 2019-12-31\n",
      "Tickers = ['TPIS3.SA', 'CGRA3.SA', 'TCSA3.SA', 'BRGE3.SA', 'RPAD3.SA']\n",
      "Calculando semana 2019-01-01 - 2019-12-31\n",
      "Tickers = ['SANB3.SA', 'CPRE3.SA', 'ENGI4.SA', 'VIVT3.SA', 'TIET3.SA']\n",
      "Calculando semana 2019-01-01 - 2019-12-31\n",
      "Tickers = ['TXRX4.SA', 'GBIO33.SA', 'GPIV33.SA', 'SBSP3.SA', 'LAME4.SA']\n",
      "Calculando semana 2019-01-01 - 2019-12-31\n",
      "Tickers = ['JOPA4.SA', 'GSHP3.SA', 'BAZA3.SA', 'GGBR4.SA', 'BMIN4.SA']\n",
      "Calculando semana 2019-01-01 - 2019-12-31\n",
      "Tickers = ['GPCP3.SA', 'LCAM3.SA', 'BRDT3.SA', 'BKBR3.SA', 'SGPS3.SA']\n",
      "Calculando semana 2019-01-01 - 2019-12-31\n",
      "Tickers = ['TRPL3.SA', 'SMLS3.SA', 'BRSR3.SA', 'HYPE3.SA', 'CLSC4.SA']\n",
      "Calculando semana 2019-01-01 - 2019-12-31\n",
      "Tickers = ['SOND5.SA', 'SMLS3.SA', 'SOND6.SA', 'JSLG3.SA', 'SLCE3.SA']\n",
      "Calculando semana 2019-01-01 - 2019-12-31\n",
      "Tickers = ['AALR3.SA', 'EQPA3.SA', 'AZUL4.SA', 'TOTS3.SA', 'BKBR3.SA']\n",
      "Calculando semana 2019-01-01 - 2019-12-31\n",
      "Tickers = ['SPRI3.SA', 'DTCY3.SA', 'RAIL3.SA', 'TEND3.SA', 'SHUL4.SA']\n",
      "Calculando semana 2019-01-01 - 2019-12-31\n",
      "Tickers = ['IRBR3.SA', 'CCRO3.SA', 'USIM5.SA', 'POSI3.SA', 'ALUP3.SA']\n",
      "Calculando semana 2019-01-01 - 2019-12-31\n",
      "Tickers = ['TXRX4.SA', 'GSHP3.SA', 'GPIV33.SA', 'PARD3.SA', 'PNVL3.SA']\n",
      "Calculando semana 2019-01-01 - 2019-12-31\n",
      "Tickers = ['CESP6.SA', 'CPLE6.SA', 'GNDI3.SA', 'BIDI11.SA', 'ENMT3.SA']\n",
      "Calculando semana 2019-01-01 - 2019-12-31\n",
      "Tickers = ['ENGI4.SA', 'BGIP4.SA', 'EKTR4.SA', 'DTEX3.SA', 'LLIS3.SA']\n",
      "Calculando semana 2019-01-01 - 2019-12-31\n",
      "Tickers = ['CLSC4.SA', 'PNVL4.SA', 'TIET11.SA', 'DIRR3.SA', 'PCAR3.SA']\n",
      "Calculando semana 2019-01-01 - 2019-12-31\n",
      "Tickers = ['BTTL3.SA', 'RAIL3.SA', 'MNPR3.SA', 'CSNA3.SA', 'RENT3.SA']\n",
      "Calculando semana 2019-01-01 - 2019-12-31\n",
      "Tickers = ['PRIO3.SA', 'BRSR5.SA', 'TXRX3.SA', 'MDIA3.SA', 'ITSA4.SA']\n",
      "Calculando semana 2019-01-01 - 2019-12-31\n",
      "Tickers = ['GOAU4.SA', 'TIET4.SA', 'CCPR3.SA', 'CNTO3.SA', 'VLID3.SA']\n",
      "Calculando semana 2019-01-01 - 2019-12-31\n",
      "Tickers = ['KLBN11.SA', 'BMGB4.SA', 'CCRO3.SA', 'SLED3.SA', 'BRFS3.SA']\n",
      "Calculando semana 2019-01-01 - 2019-12-31\n",
      "Tickers = ['PRNR3.SA', 'BBDC3.SA', 'MYPK3.SA', 'JBSS3.SA', 'NTCO3.SA']\n",
      "Calculando semana 2019-01-01 - 2019-12-31\n",
      "Tickers = ['BAZA3.SA', 'LUXM4.SA', 'DASA3.SA', 'COCE5.SA', 'ENGI4.SA']\n"
     ]
    }
   ],
   "source": [
    "ms = monkey_stocks(data)"
   ]
  },
  {
   "cell_type": "code",
   "execution_count": 16,
   "metadata": {},
   "outputs": [
    {
     "data": {
      "text/plain": [
       "<matplotlib.axes._subplots.AxesSubplot at 0x7fbba8c2dac8>"
      ]
     },
     "execution_count": 16,
     "metadata": {},
     "output_type": "execute_result"
    },
    {
     "data": {
      "image/png": "[encoded data removed]",
      "text/plain": [
       "<Figure size 1152x648 with 1 Axes>"
      ]
     },
     "metadata": {
      "needs_background": "light"
     },
     "output_type": "display_data"
    }
   ],
   "source": [
    "plt.figure(figsize=(16,9))\n",
    "(1 + ms['mean']).cumprod().plot()"
   ]
  }
 ],
 "metadata": {
  "kernelspec": {
   "display_name": ".quantenv",
   "language": "python",
   "name": ".quantenv"
  },
  "language_info": {
   "codemirror_mode": {
    "name": "ipython",
    "version": 3
   },
   "file_extension": ".py",
   "mimetype": "text/x-python",
   "name": "python",
   "nbconvert_exporter": "python",
   "pygments_lexer": "ipython3",
   "version": "3.6.9"
  }
 },
 "nbformat": 4,
 "nbformat_minor": 2
}
